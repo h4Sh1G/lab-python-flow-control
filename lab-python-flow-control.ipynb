{
 "cells": [
  {
   "attachments": {},
   "cell_type": "markdown",
   "id": "d3bfc191-8885-42ee-b0a0-bbab867c6f9f",
   "metadata": {
    "tags": []
   },
   "source": [
    "# Lab | Flow Control"
   ]
  },
  {
   "attachments": {},
   "cell_type": "markdown",
   "id": "3851fcd1-cf98-4653-9c89-e003b7ec9400",
   "metadata": {},
   "source": [
    "## Exercise: Managing Customer Orders Optimized\n",
    "\n",
    "In the last lab, you were starting an online store that sells various products. To ensure smooth operations, you developed a program that manages customer orders and inventory.\n",
    "\n",
    "You did so without using flow control. Let's go a step further and improve this code.\n",
    "\n",
    "Follow the steps below to complete the exercise:\n",
    "\n",
    "1. Look at your code from the lab data structures, and improve repeated code with loops.\n",
    "\n",
    "2. Instead of asking the user to input the name of three products that a customer wants to order, do the following:\n",
    "    \n",
    "    a. Prompt the user to enter the name of a product that a customer wants to order.\n",
    "    \n",
    "    b. Add the product name to the \"customer_orders\" set.\n",
    "    \n",
    "    c. Ask the user if they want to add another product (yes/no).\n",
    "    \n",
    "    d. Continue the loop until the user does not want to add another product.\n",
    "\n",
    "3. Instead of updating the inventory by subtracting 1 from the quantity of each product, only do it for  the products that were ordered (those in \"customer_orders\")."
   ]
  },
  {
   "cell_type": "code",
   "execution_count": 13,
   "id": "4c2099b6",
   "metadata": {},
   "outputs": [
    {
     "name": "stdout",
     "output_type": "stream",
     "text": [
      "{'t-shirt': 5, 'mug': 5, 'hat': 5, 'book': 5, 'keychain': 5}\n"
     ]
    }
   ],
   "source": [
    "#1 Look at your code from the lab data structures, and improve repeated code with loops.\n",
    "\n",
    "products = ['t-shirt', 'mug', 'hat', 'book', 'keychain'];\n",
    "\n",
    "inventory = {};\n",
    "\n",
    "for i in range(5):\n",
    "    user_input = int(input(f\"Insert the inventory amount for {products[i]} \"))\n",
    "    inventory[products[i]] = user_input\n",
    "\n",
    "\n",
    "print(inventory)"
   ]
  },
  {
   "cell_type": "code",
   "execution_count": 6,
   "id": "2c241dc3",
   "metadata": {},
   "outputs": [
    {
     "name": "stdout",
     "output_type": "stream",
     "text": [
      "{'hat', 'mug', 'book'}\n"
     ]
    }
   ],
   "source": [
    "customer_orders = set();\n",
    "\n",
    "\n",
    "while len(customer_orders) < 3:\n",
    "    user_order = input(f\"From {products}, choose a product that you would like to order: \");\n",
    "    if user_order in products:\n",
    "        customer_orders.add(user_order);\n",
    "    else:\n",
    "     print(\"Invalid input, please choose one product of the list. \")\n",
    "\n",
    "\n",
    "\n",
    "print(customer_orders)"
   ]
  },
  {
   "cell_type": "code",
   "execution_count": 7,
   "id": "ebb84e87",
   "metadata": {},
   "outputs": [
    {
     "name": "stdout",
     "output_type": "stream",
     "text": [
      "Order Statistics:\n",
      "Total Products Ordered: 3\n",
      "Percentage of Products Ordered: 60.0% \n"
     ]
    }
   ],
   "source": [
    "total_products_ord = len(customer_orders)\n",
    "\n",
    "\n",
    "total_products = len(products)\n",
    "\n",
    "percentage_products_ord = total_products_ord / total_products * 100\n",
    "\n",
    "\n",
    "order_status = (total_products_ord, percentage_products_ord)\n",
    "\n",
    "\n",
    "print(\"Order Statistics:\")\n",
    "print(f\"Total Products Ordered: {total_products_ord}\")\n",
    "print(f\"Percentage of Products Ordered: {percentage_products_ord}% \")"
   ]
  },
  {
   "cell_type": "code",
   "execution_count": 8,
   "id": "de6c8b3f",
   "metadata": {},
   "outputs": [
    {
     "name": "stdout",
     "output_type": "stream",
     "text": [
      "t-shirt:5\n",
      "mug:4\n",
      "hat:4\n",
      "book:4\n",
      "keychain:5\n"
     ]
    }
   ],
   "source": [
    "for products in customer_orders:\n",
    "    if products in inventory:\n",
    "        inventory[products] = int(inventory[products]) - 1\n",
    "\n",
    "\n",
    "\n",
    "for key, value in inventory.items():\n",
    "    print(key + \":\" + str(value))"
   ]
  },
  {
   "cell_type": "code",
   "execution_count": 17,
   "id": "35ed5881",
   "metadata": {},
   "outputs": [
    {
     "name": "stdout",
     "output_type": "stream",
     "text": [
      "{'hat', 'mug', 'book'}\n"
     ]
    }
   ],
   "source": [
    "#2. Instead of asking the user to input the name of three products that a customer wants to order, do the following:\n",
    "    #a. Prompt the user to enter the name of a product that a customer wants to order.\n",
    "    #b. Add the product name to the \"customer_orders\" set.\n",
    "    #c. Ask the user if they want to add another product (yes/no).\n",
    "    #d. Continue the loop until the user does not want to add another product.\n",
    "\n",
    "customer_orders2 = set()\n",
    "\n",
    "product_ordered = input(f\"Which {products} you wish to order? If none say 'no'\")\n",
    "\n",
    "while product_ordered != \"no\":\n",
    "    customer_orders2.add(product_ordered)\n",
    "    product_ordered = input(f\"Which {products} you wish to order? If none say 'no'\")\n",
    "\n",
    "\n",
    "print(customer_orders2)"
   ]
  },
  {
   "cell_type": "code",
   "execution_count": 19,
   "id": "936fa771",
   "metadata": {},
   "outputs": [
    {
     "name": "stdout",
     "output_type": "stream",
     "text": [
      "{'t-shirt': 5, 'mug': 4, 'hat': 4, 'book': 4, 'keychain': 5}\n"
     ]
    }
   ],
   "source": [
    "#3. Instead of updating the inventory by subtracting 1 from the quantity of each product, only do it for  the products that were ordered (those in \"customer_orders\").\n",
    "\n",
    "for product in customer_orders2:\n",
    "    if inventory[product] > 0:\n",
    "        inventory[product] -= 1\n",
    "    else:\n",
    "        print(f\"Sorry, currently the {product} selected is out of stock.\")\n",
    "\n",
    "print(inventory)"
   ]
  },
  {
   "cell_type": "code",
   "execution_count": null,
   "id": "2be50a08",
   "metadata": {},
   "outputs": [],
   "source": []
  }
 ],
 "metadata": {
  "kernelspec": {
   "display_name": "Python 3 (ipykernel)",
   "language": "python",
   "name": "python3"
  },
  "language_info": {
   "codemirror_mode": {
    "name": "ipython",
    "version": 3
   },
   "file_extension": ".py",
   "mimetype": "text/x-python",
   "name": "python",
   "nbconvert_exporter": "python",
   "pygments_lexer": "ipython3",
   "version": "3.11.7"
  }
 },
 "nbformat": 4,
 "nbformat_minor": 5
}
